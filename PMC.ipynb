{
  "nbformat": 4,
  "nbformat_minor": 0,
  "metadata": {
    "kernelspec": {
      "display_name": "Python 3",
      "language": "python",
      "name": "python3"
    },
    "language_info": {
      "codemirror_mode": {
        "name": "ipython",
        "version": 3
      },
      "file_extension": ".py",
      "mimetype": "text/x-python",
      "name": "python",
      "nbconvert_exporter": "python",
      "pygments_lexer": "ipython3",
      "version": "3.5.6"
    },
    "colab": {
      "name": "PMC.ipynb",
      "version": "0.3.2",
      "provenance": [],
      "collapsed_sections": [],
      "toc_visible": true,
      "include_colab_link": true
    }
  },
  "cells": [
    {
      "cell_type": "markdown",
      "metadata": {
        "id": "view-in-github",
        "colab_type": "text"
      },
      "source": [
        "<a href=\"https://colab.research.google.com/github/deepadshah/Test/blob/master/PMC.ipynb\" target=\"_parent\"><img src=\"https://colab.research.google.com/assets/colab-badge.svg\" alt=\"Open In Colab\"/></a>"
      ]
    },
    {
      "cell_type": "markdown",
      "metadata": {
        "id": "HM4TFlPE7Fho",
        "colab_type": "text"
      },
      "source": [
        "# Python Mini Challenges\n",
        "\n",
        "The most entertaining(and satisfying) way to improve your skills in a programming language is by doing challenges. Every challenge that is given in this assessment module can be solved by a bit of python programming and logical thinking.\n",
        "\n",
        "Some challenges may look easy,some may look tough but we hope you solve them all with the same vigour.\n",
        "\n",
        "All the best."
      ]
    },
    {
      "cell_type": "markdown",
      "metadata": {
        "id": "R9I7nijx7Fhp",
        "colab_type": "text"
      },
      "source": [
        "# Challenge 1: Smallest Palindrome\n",
        "\n",
        "\n",
        "Create a function called `palindrome(num)` that given a number `'num'`, finds the next smallest palindrome and returns it\n",
        "\n",
        "For eg:\n",
        "***\n",
        "**Input**\n",
        "\n",
        "```python\n",
        "palindrome(123)\n",
        "```\n",
        "\n",
        "**Output**\n",
        "```python\n",
        "131\n",
        "```\n",
        "***\n",
        "**Input**\n",
        "\n",
        "```python\n",
        "palindrome(1331)\n",
        "```\n",
        "\n",
        "**Output**\n",
        "```python\n",
        "1441\n",
        "```\n"
      ]
    },
    {
      "cell_type": "code",
      "metadata": {
        "id": "EXYdMsd57Fhp",
        "colab_type": "code",
        "colab": {
          "base_uri": "https://localhost:8080/",
          "height": 35
        },
        "outputId": "ad671793-1c02-4859-c259-620629d66f2c"
      },
      "source": [
        "#Code starts here\n",
        "def palindrome(num):\n",
        "  found = 0\n",
        "  \n",
        "  while (found == 0):  \n",
        "    num = num + 1\n",
        "    num_string = str(num)\n",
        "    stringlength=len(num_string) # calculate length of the list\n",
        "    slicedString=num_string[::-1] # slicing\n",
        "    rev_num = int(slicedString)\n",
        "    if num == rev_num:\n",
        "      print(\"palindrome is\", num)\n",
        "      found = 1    \n",
        " \n",
        "\n",
        "test = palindrome(1331)\n",
        "\n",
        "\n",
        "#Code ends here        "
      ],
      "execution_count": 19,
      "outputs": [
        {
          "output_type": "stream",
          "text": [
            "palindrome is 1441\n"
          ],
          "name": "stdout"
        }
      ]
    },
    {
      "cell_type": "markdown",
      "metadata": {
        "id": "3AMTHwRc7Fhs",
        "colab_type": "text"
      },
      "source": [
        "# Challenge 2: Anagram Scramble\n",
        "\n",
        "Create a function called `'a_scramble(str_1, str_2)'` that given the strings`'str_1'`,`'str_2'` returns `True` if a portion of `'str_1'` characters can be scrambled to match `'str2'`, else return `False`\n",
        "\n",
        "For eg:\n",
        "***\n",
        "**Input**\n",
        "\n",
        "```python\n",
        "a_scramble(\"Tom Marvolo Riddle\",\"Voldemort\")\n",
        "```\n",
        "\n",
        "**Output**\n",
        "```python\n",
        "True\n",
        "```\n",
        "***\n",
        "**Input**\n",
        "\n",
        "```python\n",
        "a_scramble(\"ticket\",\"chat\")\n",
        "```\n",
        "\n",
        "**Output**\n",
        "```python\n",
        "False\n",
        "```\n"
      ]
    },
    {
      "cell_type": "code",
      "metadata": {
        "id": "AwGvs1Fa7Fhs",
        "colab_type": "code",
        "colab": {
          "base_uri": "https://localhost:8080/",
          "height": 35
        },
        "outputId": "650f6a32-6893-4142-a4a3-27462e62c937"
      },
      "source": [
        "#Code starts here\n",
        "\n",
        "def a_scramble(str_1,str_2):\n",
        "  flag =''\n",
        "  count =0\n",
        "  while (count<len(str_2)):\n",
        "    for ele in str_2:\n",
        "      if ele in str_1:\n",
        "        count+=1\n",
        "        str_1 = str_1.replace(ele, \"\",1)\n",
        "        if count == len(str_2):\n",
        "          flag ='true'\n",
        "      else :\n",
        "        count+=1\n",
        "        flag ='false'\n",
        "        break\n",
        "        \n",
        "  print(flag)      \n",
        " \n",
        "a_scramble(\"test data\",\"att\")\n",
        "\n",
        "#Code ends here"
      ],
      "execution_count": 54,
      "outputs": [
        {
          "output_type": "stream",
          "text": [
            "true\n"
          ],
          "name": "stdout"
        }
      ]
    },
    {
      "cell_type": "markdown",
      "metadata": {
        "id": "NUNAiX1K7Fhv",
        "colab_type": "text"
      },
      "source": [
        "# Challenge 3: Fibonacci Check\n",
        "\n",
        "Create a function called `check_fib(num)` that checks if the given number `'num'` is part of the [fibonacci sequence](https://en.wikipedia.org/wiki/Fibonacci_number) and returns `True` if it is, else `False`\n",
        "\n",
        "For eg:\n",
        "***\n",
        "**Input**\n",
        "\n",
        "```python\n",
        "check_fib(145)\n",
        "```\n",
        "\n",
        "**Output**\n",
        "```python\n",
        "False\n",
        "```\n",
        "***\n",
        "**Input**\n",
        "\n",
        "```python\n",
        "check_fib(377)\n",
        "```\n",
        "\n",
        "**Output**\n",
        "```python\n",
        "True\n",
        "```\n",
        "\n",
        "\n"
      ]
    },
    {
      "cell_type": "code",
      "metadata": {
        "id": "jUkD4xS27Fhw",
        "colab_type": "code",
        "colab": {
          "base_uri": "https://localhost:8080/",
          "height": 35
        },
        "outputId": "cb359782-3609-4660-8de3-26257734252b"
      },
      "source": [
        "#Importing header files\n",
        "from math import sqrt\n",
        "\n",
        "#Code starts here\n",
        "def check_fib(num) :\n",
        "  f1=0\n",
        "  f2=1\n",
        "  sum1 =f1+f2\n",
        "  flag = 'false'\n",
        "  while (sum1<num):\n",
        "    f1 = f2\n",
        "    f2 = sum1\n",
        "    sum1 = f1+f2\n",
        "    if sum1 == num:\n",
        "      flag = 'true'\n",
        "  print(flag)\n",
        "\n",
        "check_fib(2585)\n"
      ],
      "execution_count": 64,
      "outputs": [
        {
          "output_type": "stream",
          "text": [
            "false\n"
          ],
          "name": "stdout"
        }
      ]
    },
    {
      "cell_type": "markdown",
      "metadata": {
        "id": "P8yQpw857Fhz",
        "colab_type": "text"
      },
      "source": [
        "# Challenge 4: String Compression\n",
        "\n",
        "Write a function `compress(word)` that given a word `word` returns the string with it's letters and how many times they occur continously together.\n",
        "\n",
        "For eg:\n",
        "\n",
        "***\n",
        "**Input**\n",
        "\n",
        "```python\n",
        "a_scramble(\"abbs\")\n",
        "```\n",
        "\n",
        "**Output**\n",
        "```python\n",
        "\"a1b2s1\"\n",
        "```\n",
        "Explanation: 1 occurence of `a`, followed by 2 occurences of `b`, followed by 1 occurence of `s`\n",
        "***\n",
        "**Input**\n",
        "\n",
        "```python\n",
        "compress(\"xxcccdex\")\n",
        "```\n",
        "\n",
        "**Output**\n",
        "```python\n",
        "\"x2c3d1e1x1\"\n",
        "```\n",
        "\n",
        "Explanation: 2 occurences of `x`, followed by 3 occurences of `c`, followed by 1 occurence of `d`, followed by 1 occurence of `e`, followed by 1 occurence of `x`"
      ]
    },
    {
      "cell_type": "code",
      "metadata": {
        "id": "1EYw9VAE7Fhz",
        "colab_type": "code",
        "colab": {
          "base_uri": "https://localhost:8080/",
          "height": 69
        },
        "outputId": "fb3c799f-84e0-4629-e4a6-96f8eee3a61c"
      },
      "source": [
        "#Code starts here\n",
        "\n",
        "\n",
        "def compress (word):\n",
        "  count = 0\n",
        "  occur = 0\n",
        "  while (count<len(word)):\n",
        "    #occur = 0\n",
        "    for ele in word :\n",
        "      #occur = 0\n",
        "      if ele == word[count]:\n",
        "        occur+=1\n",
        "      print(ele,occur)\n",
        "      count+=1\n",
        "    \n",
        "compress ('aac')\n",
        "      \n",
        "#Code ends here"
      ],
      "execution_count": 78,
      "outputs": [
        {
          "output_type": "stream",
          "text": [
            "a 1\n",
            "a 2\n",
            "c 3\n"
          ],
          "name": "stdout"
        }
      ]
    },
    {
      "cell_type": "markdown",
      "metadata": {
        "id": "YkWvZbxN7Fh1",
        "colab_type": "text"
      },
      "source": [
        "# Challenge 5: K-Distinct\n",
        "\n",
        "Write a function `k_distinct(string,k)` that given a string `'string'` and number `'k'`, it checks whether the `'string'` has `'k'` distinct characters\n",
        "\n",
        "For eg:\n",
        "***\n",
        "**Input**\n",
        "\n",
        "```python\n",
        "k_distinct('Messoptamia',8)\n",
        "```\n",
        "\n",
        "**Output**\n",
        "```python\n",
        "True\n",
        "```\n",
        "***\n",
        "**Input**\n",
        "\n",
        "```python\n",
        "k_distinct('banana',4)\n",
        "```\n",
        "\n",
        "**Output**\n",
        "```python\n",
        "False\n",
        "```\n"
      ]
    },
    {
      "cell_type": "code",
      "metadata": {
        "id": "BQDz3WE37Fh2",
        "colab_type": "code",
        "colab": {}
      },
      "source": [
        "#Code starts here\n",
        "\n",
        "\n",
        "#Code ends here"
      ],
      "execution_count": 0,
      "outputs": []
    }
  ]
}